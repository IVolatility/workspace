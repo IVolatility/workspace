{
 "cells": [
  {
   "cell_type": "code",
   "execution_count": null,
   "metadata": {},
   "outputs": [
    {
     "name": "stdout",
     "output_type": "stream",
     "text": [
      "   symbol exchange        date  Adjusted close          option symbol  \\\n",
      "0     SPX     CBOE  2021-09-01         4524.09  SPXW  211231C03000000   \n",
      "1     SPX     CBOE  2021-09-02         4536.95  SPXW  211231C03000000   \n",
      "2     SPX     CBOE  2021-09-03         4535.43  SPXW  211231C03000000   \n",
      "3     SPX     CBOE  2021-09-07         4520.03  SPXW  211231C03000000   \n",
      "4     SPX     CBOE  2021-09-08         4514.07  SPXW  211231C03000000   \n",
      "..    ...      ...         ...             ...                    ...   \n",
      "5     SPX     CBOE  2021-09-09         4493.28  SPX   231215C03025000   \n",
      "6     SPX     CBOE  2021-09-10         4458.58  SPX   231215C03025000   \n",
      "7     SPX     CBOE  2021-09-13         4468.73  SPX   231215C03025000   \n",
      "8     SPX     CBOE  2021-09-14         4443.05  SPX   231215C03025000   \n",
      "9     SPX     CBOE  2021-09-15         4480.70  SPX   231215C03025000   \n",
      "\n",
      "    expiration  strike Call/Put style     ask     bid  volume  open interest  \\\n",
      "0   2021-12-31  3000.0        C     E  1526.8  1522.4       0            673   \n",
      "1   2021-12-31  3000.0        C     E  1538.1  1532.3       0            673   \n",
      "2   2021-12-31  3000.0        C     E  1535.9  1531.5       0            673   \n",
      "3   2021-12-31  3000.0        C     E  1520.7  1513.9       0            673   \n",
      "4   2021-12-31  3000.0        C     E  1520.5  1505.7       0            673   \n",
      "..         ...     ...      ...   ...     ...     ...     ...            ...   \n",
      "5   2023-12-15  3025.0        C     E  1562.1  1514.1       0              1   \n",
      "6   2023-12-15  3025.0        C     E  1537.7  1489.7       0              1   \n",
      "7   2023-12-15  3025.0        C     E  1546.4  1498.4       0              1   \n",
      "8   2023-12-15  3025.0        C     E  1523.4  1475.4       0              1   \n",
      "9   2023-12-15  3025.0        C     E  1552.2  1504.2       0              1   \n",
      "\n",
      "    Unadjusted  \n",
      "0      4524.09  \n",
      "1      4536.95  \n",
      "2      4535.43  \n",
      "3      4520.03  \n",
      "4      4514.07  \n",
      "..         ...  \n",
      "5      4493.28  \n",
      "6      4458.58  \n",
      "7      4468.73  \n",
      "8      4443.05  \n",
      "9      4480.70  \n",
      "\n",
      "[330 rows x 14 columns]\n"
     ]
    }
   ],
   "source": [
    "import pandas as pd \n",
    "import ivolatility as ivol\n",
    "import os\n",
    "\n",
    "ivolApiKey = os.getenv('API_KEY')\n",
    "ivol.setLoginParams(apiKey=ivolApiKey)\n",
    "\n",
    "getOptionsChain = ivol.setMethod('/equities/eod/option-series-on-date')\n",
    "optionsChain = getOptionsChain(symbol='SPX', expFrom='2021-12-23', expTo='2025-12-23', strikeFrom=3000, strikeTo=3025, callPut='C', date='2021-09-15')\n",
    "\n",
    "allData = pd.DataFrame()\n",
    "getMarketData = ivol.setMethod('/equities/eod/single-stock-option')\n",
    "for optionSymbol in optionsChain['OptionSymbol']:\n",
    "  marketData = getMarketData(symbol=optionSymbol, from_='2021-09-01', to='2021-09-15')\n",
    "  allData = pd.concat([allData, marketData], axis=0)\n",
    "\n",
    "allData\n",
    "#allData.to_csv('allData.csv', header=True, index=False)"
   ]
  }
 ],
 "metadata": {
  "kernelspec": {
   "display_name": "Python 3",
   "language": "python",
   "name": "python3"
  },
  "language_info": {
   "codemirror_mode": {
    "name": "ipython",
    "version": 3
   },
   "file_extension": ".py",
   "mimetype": "text/x-python",
   "name": "python",
   "nbconvert_exporter": "python",
   "pygments_lexer": "ipython3",
   "version": "3.11.4"
  }
 },
 "nbformat": 4,
 "nbformat_minor": 2
}
